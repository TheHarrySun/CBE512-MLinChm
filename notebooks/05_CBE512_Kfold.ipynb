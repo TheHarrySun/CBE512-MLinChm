{
  "cells": [
    {
      "cell_type": "markdown",
      "source": [
        "## **Notebook 05: Demonstration of K-fold Cross-Validation**\n",
        "### CBE 512. Machine Learning in Chemical Science and Engineering.\n",
        "\n",
        "&#169; Princeton University"
      ],
      "metadata": {
        "id": "Ky3z7aUmu6qn"
      },
      "id": "Ky3z7aUmu6qn"
    },
    {
      "cell_type": "markdown",
      "source": [
        "*Cross-validation* is a technique that is used to mitigate overfitting, which has a tendency to prevent effective generalizability. Another application of cross-validation is to allow for less biased reporting of results (as opposed to a simple train/test split). In this notebook, we will illustrate the basic mechanics of using `scikit-learn` to generate folds of data. You may want to examine `sklearn`'s [documentation](https://scikit-learn.org/stable/modules/cross_validation.html) for additional support."
      ],
      "metadata": {
        "id": "VStDYe4q34Hc"
      },
      "id": "VStDYe4q34Hc"
    },
    {
      "cell_type": "code",
      "execution_count": null,
      "id": "2934b397",
      "metadata": {
        "id": "2934b397"
      },
      "outputs": [],
      "source": [
        "# modules used by Prof. Webb\n",
        "import numpy as np\n",
        "from sklearn.model_selection import KFold\n",
        "import pandas as pd\n",
        "import urllib.request\n",
        "from sklearn.linear_model import LinearRegression\n",
        "from sklearn.metrics import r2_score, mean_squared_error,mean_absolute_error\n",
        "import matplotlib.pyplot as plt\n",
        "from scipy.stats import sem as stderr"
      ]
    },
    {
      "cell_type": "markdown",
      "source": [
        "## **Data Description**\n",
        "\n",
        "We are going to use the same data from intrinsically disordered proteins as used in prior lectures on linear regression/gradient descent. Recall the inputs are essentially sequences of intrinsically disordered proteins, while there are a few different possible outputs (radius of gyration, heat capacity, relaxation time). We have just been using radius of gyration. If you want to spice things up a little, maybe you can consider using a different label."
      ],
      "metadata": {
        "id": "3-Z9iFC_5RcW"
      },
      "id": "3-Z9iFC_5RcW"
    },
    {
      "cell_type": "code",
      "execution_count": null,
      "id": "e345ce39",
      "metadata": {
        "colab": {
          "base_uri": "https://localhost:8080/",
          "height": 226
        },
        "id": "e345ce39",
        "outputId": "fadd5f73-d0c2-4305-90f4-7be27a2857d2"
      },
      "outputs": [
        {
          "output_type": "execute_result",
          "data": {
            "text/plain": [
              "     ROG (A)  CV (J/K)  TAUS (fs)\n",
              "0  11.725914  0.444604  36585.162\n",
              "1  11.912079  0.370302  40234.011\n",
              "2  11.375047  0.399939  38123.675\n",
              "3  11.457038  0.407542  34174.561\n",
              "4  11.509964  0.449730  34279.740"
            ],
            "text/html": [
              "\n",
              "  <div id=\"df-825c3d1b-9a71-413c-a148-91c98a950700\" class=\"colab-df-container\">\n",
              "    <div>\n",
              "<style scoped>\n",
              "    .dataframe tbody tr th:only-of-type {\n",
              "        vertical-align: middle;\n",
              "    }\n",
              "\n",
              "    .dataframe tbody tr th {\n",
              "        vertical-align: top;\n",
              "    }\n",
              "\n",
              "    .dataframe thead th {\n",
              "        text-align: right;\n",
              "    }\n",
              "</style>\n",
              "<table border=\"1\" class=\"dataframe\">\n",
              "  <thead>\n",
              "    <tr style=\"text-align: right;\">\n",
              "      <th></th>\n",
              "      <th>ROG (A)</th>\n",
              "      <th>CV (J/K)</th>\n",
              "      <th>TAUS (fs)</th>\n",
              "    </tr>\n",
              "  </thead>\n",
              "  <tbody>\n",
              "    <tr>\n",
              "      <th>0</th>\n",
              "      <td>11.725914</td>\n",
              "      <td>0.444604</td>\n",
              "      <td>36585.162</td>\n",
              "    </tr>\n",
              "    <tr>\n",
              "      <th>1</th>\n",
              "      <td>11.912079</td>\n",
              "      <td>0.370302</td>\n",
              "      <td>40234.011</td>\n",
              "    </tr>\n",
              "    <tr>\n",
              "      <th>2</th>\n",
              "      <td>11.375047</td>\n",
              "      <td>0.399939</td>\n",
              "      <td>38123.675</td>\n",
              "    </tr>\n",
              "    <tr>\n",
              "      <th>3</th>\n",
              "      <td>11.457038</td>\n",
              "      <td>0.407542</td>\n",
              "      <td>34174.561</td>\n",
              "    </tr>\n",
              "    <tr>\n",
              "      <th>4</th>\n",
              "      <td>11.509964</td>\n",
              "      <td>0.449730</td>\n",
              "      <td>34279.740</td>\n",
              "    </tr>\n",
              "  </tbody>\n",
              "</table>\n",
              "</div>\n",
              "    <div class=\"colab-df-buttons\">\n",
              "\n",
              "  <div class=\"colab-df-container\">\n",
              "    <button class=\"colab-df-convert\" onclick=\"convertToInteractive('df-825c3d1b-9a71-413c-a148-91c98a950700')\"\n",
              "            title=\"Convert this dataframe to an interactive table.\"\n",
              "            style=\"display:none;\">\n",
              "\n",
              "  <svg xmlns=\"http://www.w3.org/2000/svg\" height=\"24px\" viewBox=\"0 -960 960 960\">\n",
              "    <path d=\"M120-120v-720h720v720H120Zm60-500h600v-160H180v160Zm220 220h160v-160H400v160Zm0 220h160v-160H400v160ZM180-400h160v-160H180v160Zm440 0h160v-160H620v160ZM180-180h160v-160H180v160Zm440 0h160v-160H620v160Z\"/>\n",
              "  </svg>\n",
              "    </button>\n",
              "\n",
              "  <style>\n",
              "    .colab-df-container {\n",
              "      display:flex;\n",
              "      gap: 12px;\n",
              "    }\n",
              "\n",
              "    .colab-df-convert {\n",
              "      background-color: #E8F0FE;\n",
              "      border: none;\n",
              "      border-radius: 50%;\n",
              "      cursor: pointer;\n",
              "      display: none;\n",
              "      fill: #1967D2;\n",
              "      height: 32px;\n",
              "      padding: 0 0 0 0;\n",
              "      width: 32px;\n",
              "    }\n",
              "\n",
              "    .colab-df-convert:hover {\n",
              "      background-color: #E2EBFA;\n",
              "      box-shadow: 0px 1px 2px rgba(60, 64, 67, 0.3), 0px 1px 3px 1px rgba(60, 64, 67, 0.15);\n",
              "      fill: #174EA6;\n",
              "    }\n",
              "\n",
              "    .colab-df-buttons div {\n",
              "      margin-bottom: 4px;\n",
              "    }\n",
              "\n",
              "    [theme=dark] .colab-df-convert {\n",
              "      background-color: #3B4455;\n",
              "      fill: #D2E3FC;\n",
              "    }\n",
              "\n",
              "    [theme=dark] .colab-df-convert:hover {\n",
              "      background-color: #434B5C;\n",
              "      box-shadow: 0px 1px 3px 1px rgba(0, 0, 0, 0.15);\n",
              "      filter: drop-shadow(0px 1px 2px rgba(0, 0, 0, 0.3));\n",
              "      fill: #FFFFFF;\n",
              "    }\n",
              "  </style>\n",
              "\n",
              "    <script>\n",
              "      const buttonEl =\n",
              "        document.querySelector('#df-825c3d1b-9a71-413c-a148-91c98a950700 button.colab-df-convert');\n",
              "      buttonEl.style.display =\n",
              "        google.colab.kernel.accessAllowed ? 'block' : 'none';\n",
              "\n",
              "      async function convertToInteractive(key) {\n",
              "        const element = document.querySelector('#df-825c3d1b-9a71-413c-a148-91c98a950700');\n",
              "        const dataTable =\n",
              "          await google.colab.kernel.invokeFunction('convertToInteractive',\n",
              "                                                    [key], {});\n",
              "        if (!dataTable) return;\n",
              "\n",
              "        const docLinkHtml = 'Like what you see? Visit the ' +\n",
              "          '<a target=\"_blank\" href=https://colab.research.google.com/notebooks/data_table.ipynb>data table notebook</a>'\n",
              "          + ' to learn more about interactive tables.';\n",
              "        element.innerHTML = '';\n",
              "        dataTable['output_type'] = 'display_data';\n",
              "        await google.colab.output.renderOutput(dataTable, element);\n",
              "        const docLink = document.createElement('div');\n",
              "        docLink.innerHTML = docLinkHtml;\n",
              "        element.appendChild(docLink);\n",
              "      }\n",
              "    </script>\n",
              "  </div>\n",
              "\n",
              "\n",
              "<div id=\"df-4a3bfff3-13c3-4dd4-a41f-b379d9debcd8\">\n",
              "  <button class=\"colab-df-quickchart\" onclick=\"quickchart('df-4a3bfff3-13c3-4dd4-a41f-b379d9debcd8')\"\n",
              "            title=\"Suggest charts\"\n",
              "            style=\"display:none;\">\n",
              "\n",
              "<svg xmlns=\"http://www.w3.org/2000/svg\" height=\"24px\"viewBox=\"0 0 24 24\"\n",
              "     width=\"24px\">\n",
              "    <g>\n",
              "        <path d=\"M19 3H5c-1.1 0-2 .9-2 2v14c0 1.1.9 2 2 2h14c1.1 0 2-.9 2-2V5c0-1.1-.9-2-2-2zM9 17H7v-7h2v7zm4 0h-2V7h2v10zm4 0h-2v-4h2v4z\"/>\n",
              "    </g>\n",
              "</svg>\n",
              "  </button>\n",
              "\n",
              "<style>\n",
              "  .colab-df-quickchart {\n",
              "      --bg-color: #E8F0FE;\n",
              "      --fill-color: #1967D2;\n",
              "      --hover-bg-color: #E2EBFA;\n",
              "      --hover-fill-color: #174EA6;\n",
              "      --disabled-fill-color: #AAA;\n",
              "      --disabled-bg-color: #DDD;\n",
              "  }\n",
              "\n",
              "  [theme=dark] .colab-df-quickchart {\n",
              "      --bg-color: #3B4455;\n",
              "      --fill-color: #D2E3FC;\n",
              "      --hover-bg-color: #434B5C;\n",
              "      --hover-fill-color: #FFFFFF;\n",
              "      --disabled-bg-color: #3B4455;\n",
              "      --disabled-fill-color: #666;\n",
              "  }\n",
              "\n",
              "  .colab-df-quickchart {\n",
              "    background-color: var(--bg-color);\n",
              "    border: none;\n",
              "    border-radius: 50%;\n",
              "    cursor: pointer;\n",
              "    display: none;\n",
              "    fill: var(--fill-color);\n",
              "    height: 32px;\n",
              "    padding: 0;\n",
              "    width: 32px;\n",
              "  }\n",
              "\n",
              "  .colab-df-quickchart:hover {\n",
              "    background-color: var(--hover-bg-color);\n",
              "    box-shadow: 0 1px 2px rgba(60, 64, 67, 0.3), 0 1px 3px 1px rgba(60, 64, 67, 0.15);\n",
              "    fill: var(--button-hover-fill-color);\n",
              "  }\n",
              "\n",
              "  .colab-df-quickchart-complete:disabled,\n",
              "  .colab-df-quickchart-complete:disabled:hover {\n",
              "    background-color: var(--disabled-bg-color);\n",
              "    fill: var(--disabled-fill-color);\n",
              "    box-shadow: none;\n",
              "  }\n",
              "\n",
              "  .colab-df-spinner {\n",
              "    border: 2px solid var(--fill-color);\n",
              "    border-color: transparent;\n",
              "    border-bottom-color: var(--fill-color);\n",
              "    animation:\n",
              "      spin 1s steps(1) infinite;\n",
              "  }\n",
              "\n",
              "  @keyframes spin {\n",
              "    0% {\n",
              "      border-color: transparent;\n",
              "      border-bottom-color: var(--fill-color);\n",
              "      border-left-color: var(--fill-color);\n",
              "    }\n",
              "    20% {\n",
              "      border-color: transparent;\n",
              "      border-left-color: var(--fill-color);\n",
              "      border-top-color: var(--fill-color);\n",
              "    }\n",
              "    30% {\n",
              "      border-color: transparent;\n",
              "      border-left-color: var(--fill-color);\n",
              "      border-top-color: var(--fill-color);\n",
              "      border-right-color: var(--fill-color);\n",
              "    }\n",
              "    40% {\n",
              "      border-color: transparent;\n",
              "      border-right-color: var(--fill-color);\n",
              "      border-top-color: var(--fill-color);\n",
              "    }\n",
              "    60% {\n",
              "      border-color: transparent;\n",
              "      border-right-color: var(--fill-color);\n",
              "    }\n",
              "    80% {\n",
              "      border-color: transparent;\n",
              "      border-right-color: var(--fill-color);\n",
              "      border-bottom-color: var(--fill-color);\n",
              "    }\n",
              "    90% {\n",
              "      border-color: transparent;\n",
              "      border-bottom-color: var(--fill-color);\n",
              "    }\n",
              "  }\n",
              "</style>\n",
              "\n",
              "  <script>\n",
              "    async function quickchart(key) {\n",
              "      const quickchartButtonEl =\n",
              "        document.querySelector('#' + key + ' button');\n",
              "      quickchartButtonEl.disabled = true;  // To prevent multiple clicks.\n",
              "      quickchartButtonEl.classList.add('colab-df-spinner');\n",
              "      try {\n",
              "        const charts = await google.colab.kernel.invokeFunction(\n",
              "            'suggestCharts', [key], {});\n",
              "      } catch (error) {\n",
              "        console.error('Error during call to suggestCharts:', error);\n",
              "      }\n",
              "      quickchartButtonEl.classList.remove('colab-df-spinner');\n",
              "      quickchartButtonEl.classList.add('colab-df-quickchart-complete');\n",
              "    }\n",
              "    (() => {\n",
              "      let quickchartButtonEl =\n",
              "        document.querySelector('#df-4a3bfff3-13c3-4dd4-a41f-b379d9debcd8 button');\n",
              "      quickchartButtonEl.style.display =\n",
              "        google.colab.kernel.accessAllowed ? 'block' : 'none';\n",
              "    })();\n",
              "  </script>\n",
              "</div>\n",
              "\n",
              "    </div>\n",
              "  </div>\n"
            ],
            "application/vnd.google.colaboratory.intrinsic+json": {
              "type": "dataframe",
              "variable_name": "idpdata",
              "summary": "{\n  \"name\": \"idpdata\",\n  \"rows\": 2585,\n  \"fields\": [\n    {\n      \"column\": \"ROG (A)\",\n      \"properties\": {\n        \"dtype\": \"number\",\n        \"std\": 11.260968854130352,\n        \"min\": 10.36367551,\n        \"max\": 92.63654468,\n        \"num_unique_values\": 2585,\n        \"samples\": [\n          14.19085586,\n          51.17080261,\n          13.79314177\n        ],\n        \"semantic_type\": \"\",\n        \"description\": \"\"\n      }\n    },\n    {\n      \"column\": \"CV (J/K)\",\n      \"properties\": {\n        \"dtype\": \"number\",\n        \"std\": 16.609776709340995,\n        \"min\": 0.367619802,\n        \"max\": 179.8704555,\n        \"num_unique_values\": 2585,\n        \"samples\": [\n          0.621773452,\n          41.05472192,\n          0.711097547\n        ],\n        \"semantic_type\": \"\",\n        \"description\": \"\"\n      }\n    },\n    {\n      \"column\": \"TAUS (fs)\",\n      \"properties\": {\n        \"dtype\": \"number\",\n        \"std\": 3013014.224406939,\n        \"min\": 11721.002,\n        \"max\": 85349005.82,\n        \"num_unique_values\": 2585,\n        \"samples\": [\n          67837.043,\n          5590030.387,\n          56539.877\n        ],\n        \"semantic_type\": \"\",\n        \"description\": \"\"\n      }\n    }\n  ]\n}"
            }
          },
          "metadata": {},
          "execution_count": 11
        }
      ],
      "source": [
        "url_for_labels    = \"https://raw.githubusercontent.com/webbtheosim/featurization/main/Dataset_A/labels.csv\"\n",
        "url_for_sequences = \"https://raw.githubusercontent.com/webbtheosim/featurization/main/Dataset_A/sequences.txt\"\n",
        "idpdata = pd.read_csv(\n",
        "    url_for_labels\n",
        ")\n",
        "\n",
        "y = idpdata['ROG (A)'].to_numpy()/10.     # these are now labels\n",
        "seqs  = [line.strip().split() for line in urllib.request.urlopen(url_for_sequences)]\n",
        "X     = np.array([[1,len(seq),len(seq),len(seq),len(seq)] for seq in seqs])   # these are features\n",
        "X[:,1]  = X[:,1]**0.5\n",
        "X[:,2]  = X[:,2]**(2./3)\n",
        "X[:,-1] = X[:,-1]**2\n",
        "# The input now looks like x_i = [1, Ni^(1/2),Ni^(2/3),Ni,Ni^2]\n",
        "\n",
        "idpdata.head()"
      ]
    },
    {
      "cell_type": "markdown",
      "source": [
        "## **Define your task**\n",
        "\n",
        "Use the following cells to get some sense as to how much data you have and then set parameters accordingly to define the number of folds that will be used as an input to [KFold](https://scikit-learn.org/stable/modules/generated/sklearn.model_selection.KFold.html). Let's say that your current objective is to characterize the expected quality of a linear model."
      ],
      "metadata": {
        "id": "XHZ0kdUZ6FHN"
      },
      "id": "XHZ0kdUZ6FHN"
    },
    {
      "cell_type": "code",
      "execution_count": null,
      "id": "ea131a32",
      "metadata": {
        "colab": {
          "base_uri": "https://localhost:8080/"
        },
        "id": "ea131a32",
        "outputId": "91d39979-e623-4bbc-af78-c1d6dd26d315"
      },
      "outputs": [
        {
          "output_type": "stream",
          "name": "stdout",
          "text": [
            "We will partition 2585 data points in 5 folds\n"
          ]
        }
      ],
      "source": [
        "n = X.shape[0]\n",
        "k = 5\n",
        "print(\"We will partition {} data points in {} folds\".format(n,k))"
      ]
    },
    {
      "cell_type": "code",
      "execution_count": null,
      "id": "8578252e",
      "metadata": {
        "colab": {
          "base_uri": "https://localhost:8080/"
        },
        "id": "8578252e",
        "outputId": "9002c145-c1d3-435b-a7a8-cf39a93999cd"
      },
      "outputs": [
        {
          "output_type": "stream",
          "name": "stdout",
          "text": [
            "For Fold 0...\n",
            "Some example indices/labels are: \n",
            "   29     1.13\n",
            "   30     1.17\n",
            "   43     1.11\n",
            "   44     1.07\n",
            "   48     1.15\n",
            "   49     1.20\n",
            "   51     1.32\n",
            "   56     1.25\n",
            "   57     1.10\n",
            "   67     1.13\n",
            "\n",
            "\n",
            "\n",
            "For Fold 1...\n",
            "Some example indices/labels are: \n",
            "    8     1.12\n",
            "   13     1.12\n",
            "   18     1.15\n",
            "   20     1.13\n",
            "   23     1.15\n",
            "   25     1.16\n",
            "   32     1.23\n",
            "   45     1.27\n",
            "   59     1.14\n",
            "   63     1.14\n",
            "\n",
            "\n",
            "\n",
            "For Fold 2...\n",
            "Some example indices/labels are: \n",
            "    2     1.14\n",
            "    6     1.13\n",
            "   10     1.14\n",
            "   15     1.14\n",
            "   17     1.15\n",
            "   22     1.17\n",
            "   26     1.12\n",
            "   28     1.16\n",
            "   31     1.15\n",
            "   37     1.16\n",
            "\n",
            "\n",
            "\n",
            "For Fold 3...\n",
            "Some example indices/labels are: \n",
            "    0     1.17\n",
            "    3     1.15\n",
            "    5     1.29\n",
            "    7     1.45\n",
            "    9     1.16\n",
            "   12     1.16\n",
            "   14     1.12\n",
            "   24     1.08\n",
            "   27     1.08\n",
            "   33     1.16\n",
            "\n",
            "\n",
            "\n",
            "For Fold 4...\n",
            "Some example indices/labels are: \n",
            "    1     1.19\n",
            "    4     1.15\n",
            "   11     1.14\n",
            "   16     1.14\n",
            "   19     1.13\n",
            "   21     1.20\n",
            "   34     1.13\n",
            "   35     1.16\n",
            "   36     1.23\n",
            "   38     1.29\n",
            "\n",
            "\n",
            "\n",
            "2585\n"
          ]
        }
      ],
      "source": [
        "kf = KFold(n_splits=k,shuffle=True,random_state=42)\n",
        "ntest = 0\n",
        "for i,(iTrain,iTest) in enumerate(kf.split(X)):\n",
        "    print(\"For Fold {}...\".format(i))\n",
        "    print(\"Some example indices/labels are: \")\n",
        "    for (indj,yj) in zip(iTest[:10],y[iTest][:10]):\n",
        "      print(\"{:>5d} {:>8.2f}\".format(indj,yj))\n",
        "    ntest += len(iTest)\n",
        "    print(\"\\n\\n\")\n",
        "\n",
        "print(ntest)"
      ]
    },
    {
      "cell_type": "markdown",
      "source": [
        "## **Model comparison**\n",
        "\n",
        "OK, now that we have the ability to create folds, let's utilize that for the training and testing of multiple models. Create data structures that allow you to track their performance of some simple linear models."
      ],
      "metadata": {
        "id": "lVLKXCyV-eKV"
      },
      "id": "lVLKXCyV-eKV"
    },
    {
      "cell_type": "code",
      "execution_count": null,
      "id": "9643aa2e",
      "metadata": {
        "colab": {
          "base_uri": "https://localhost:8080/"
        },
        "id": "9643aa2e",
        "outputId": "bf234d33-0355-40d4-93fc-34357b2f264c"
      },
      "outputs": [
        {
          "output_type": "stream",
          "name": "stdout",
          "text": [
            "The expected performance of this linear model is\n",
            " r2 = 0.940+/-0.002\n",
            "[0.9305191998274189, 0.940480795357513, 0.942273030461574, 0.9437102214487745, 0.9437792916849608]\n"
          ]
        }
      ],
      "source": [
        "kf = KFold(n_splits=k,shuffle=True)\n",
        "r2folds = [0]*k\n",
        "params  = [0]*k\n",
        "for i,(iTrain,iTest) in enumerate(kf.split(X)):\n",
        "    # define train/test splits\n",
        "    Xtr = X[iTrain,:]\n",
        "    ytr = y[iTrain]\n",
        "    Xte = X[iTest,:]\n",
        "    yte = y[iTest]\n",
        "\n",
        "    # train a model\n",
        "    linreg = LinearRegression(fit_intercept=False).fit(Xtr,ytr)\n",
        "\n",
        "    # make predictions and store results\n",
        "    ypr        = linreg.predict(Xte)\n",
        "    r2folds[i] = r2_score(yte,ypr)\n",
        "    params[i]  = linreg.coef_[:]\n",
        "\n",
        "r2avg = np.mean(r2folds)\n",
        "r2err = stderr(r2folds)\n",
        "\n",
        "print(\"The expected performance of this linear model is\\n r2 = {:>5.3f}+/-{:>5.3f}\"\\\n",
        "      .format(r2avg,r2err))\n",
        "\n",
        "print(r2folds)\n"
      ]
    },
    {
      "cell_type": "code",
      "source": [
        "# global specifications on plots\n",
        "plt.rcParams.update({'font.size': 18,\n",
        "                     'font.weight' : 'bold',\n",
        "                     'axes.labelweight': 'bold'})\n",
        "\n",
        "def plot_raw_data(x,y,c):\n",
        "  plt.plot(x, y,linestyle=\"-\",\\\n",
        "           color=c)\n",
        "  plt.ylabel(\"Radius of Gyration, $R_g$ (nm)\")\n",
        "  plt.xlabel(\"$N$\")\n",
        "  plt.xlim(0,1e3)\n",
        "  plt.ylim(0,15)\n",
        "  ax = plt.gca()\n",
        "  ax.tick_params(direction='in')\n",
        "  ax.yaxis.set_ticks_position('both')\n",
        "  ax.xaxis.set_ticks_position('both')\n",
        "  return ax\n",
        "\n"
      ],
      "metadata": {
        "id": "drJbN-UzGqkz"
      },
      "id": "drJbN-UzGqkz",
      "execution_count": null,
      "outputs": []
    },
    {
      "cell_type": "code",
      "source": [
        "Nrng = np.array([i for i in range(int(5e3))])\n",
        "Xrng = np.vstack((np.ones(len(Nrng)),Nrng**0.5,Nrng**(2./3),Nrng,Nrng**2)).T\n",
        "cmap = plt.colormaps['jet']\n",
        "for i,pari in enumerate(params):\n",
        "  mod  = LinearRegression().fit(X,y)\n",
        "  mod.coef_[:] = pari[:]\n",
        "  yrng = mod.predict(Xrng)\n",
        "  plot_raw_data(Xrng[:,3],yrng,cmap((i+1)/k))\n",
        "\n",
        "Nmax = np.max(X[:,3])\n",
        "plt.plot([Nmax,Nmax],[0,30],'k',linestyle=\":\",linewidth=2)"
      ],
      "metadata": {
        "colab": {
          "base_uri": "https://localhost:8080/",
          "height": 513
        },
        "id": "e60hBG2bDijn",
        "outputId": "d72f6b7b-9b2d-4565-c178-6ba30ccaa9cc"
      },
      "id": "e60hBG2bDijn",
      "execution_count": null,
      "outputs": [
        {
          "output_type": "execute_result",
          "data": {
            "text/plain": [
              "[<matplotlib.lines.Line2D at 0x79953e201330>]"
            ]
          },
          "metadata": {},
          "execution_count": 29
        },
        {
          "output_type": "display_data",
          "data": {
            "text/plain": [
              "<Figure size 640x480 with 1 Axes>"
            ],
            "image/png": "[encoded data removed]"
          },
          "metadata": {}
        }
      ]
    },
    {
      "cell_type": "code",
      "source": [],
      "metadata": {
        "id": "4RpDdUoTG72l"
      },
      "id": "4RpDdUoTG72l",
      "execution_count": null,
      "outputs": []
    }
  ],
  "metadata": {
    "kernelspec": {
      "display_name": "Python 3 (ipykernel)",
      "language": "python",
      "name": "python3"
    },
    "language_info": {
      "codemirror_mode": {
        "name": "ipython",
        "version": 3
      },
      "file_extension": ".py",
      "mimetype": "text/x-python",
      "name": "python",
      "nbconvert_exporter": "python",
      "pygments_lexer": "ipython3",
      "version": "3.8.3"
    },
    "colab": {
      "provenance": []
    }
  },
  "nbformat": 4,
  "nbformat_minor": 5
}